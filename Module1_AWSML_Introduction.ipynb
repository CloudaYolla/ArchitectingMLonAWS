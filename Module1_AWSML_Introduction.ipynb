{
 "cells": [
  {
   "cell_type": "markdown",
   "metadata": {},
   "source": [
    "![ML Logo](images/mod00_logo.png \"Logo\") "
   ]
  },
  {
   "cell_type": "markdown",
   "metadata": {},
   "source": [
    "# Architecting Machine Learning on AWS\n",
    "\n",
    "\n",
    "`(Revision History:\n",
    "PA1, 2020-04-14, @akirmak: Initial version\n",
    "`\n",
    "\n",
    "\n",
    "*Welcome to the Architecting Machine Learning on AWS with SageMaker workshop.*"
   ]
  },
  {
   "cell_type": "markdown",
   "metadata": {},
   "source": [
    "## Overview\n",
    "\n",
    "The objective of this workshop is to provide a practitioner's guide to challenges of real-world ML problems, and demonstrate examples of how to tackle them on AWS Cloud. \n",
    "\n",
    "There is abundance of online training (online training in Coursera, Data Camp, O'Reilly Online, A Cloud Guru, Udemy), books & articles (medium, blog posts) and code (For AWS SageMaker only, there are hundreds of Sample Notebooks from every imaginable use case, ML domain). So how is this workshop different? We can gro\n",
    "\n",
    "\n",
    "\n",
    "\n",
    "Areas covered: \n",
    "\n",
    "- **Data Engineering:** Download, Explore, and Transform the Training Data. You will explore various examples of  Data Exploration, Feature Engineering & Data Cleaning using popular frameworks on python using a Jupyter Notebook (pandas, numPy, SeaBorn etc.). Since these frameworks are suitable for small-datasets (KB's, to single digit GBs, or to double digit GBs in extreme cases with very strong instances), they are suitable for working on a subset of the actual datasets. You will also experiment with big data analytics services can be used for data engineering, explorary data analytics; and how data is carried over from the data lake storage to compute clusters using S3. Services covered are: Amazon Athena - a Presto/HIVE based service for Ad-HoC analytics, Glue for Data Catalog Management and S3 for Data Lake Storage.  \n",
    "    \n",
    "- **ML Training**: Choose the Training Algorithm and then create Validate the Model. You will train various supervised learning algorithms for regression & classification (For Regression: Decision Trees, For Classification: Logistic Regression & Artificial Neural Networks based Image Classification). You will observe how to do parallel ML training in the cloud on clusters to achieve scale.  \n",
    "\n",
    "- **Evaluating ML Models:** The key to evaluating performance of an ML model is to be able to generate various metrics (depending on the type of algorithm), and to be able to persist measurements in the ML Project Life Cycle. You will see how model metrics, and metrics related to the compute cluster are persisted in Amazon S3 and AWS CloudWatch.  \n",
    "\n",
    "- **Optimizing ML Models**: ML Optimization is a stochastic process. You will experiment with Automated Hyperparameter Tuning using Bayesian Search strategy to find the best performing hyperparameters. \n",
    "\n",
    "- **Framing the ML Problem:**  Infrastructure Requirements & Business Context\n"
   ]
  },
  {
   "cell_type": "markdown",
   "metadata": {},
   "source": [
    "## Prerequisites\n",
    "\n",
    "### Workshops\n",
    "This workshop is part of a series. Make sure you've attended the first workshop.\n",
    "\n",
    "  1. Machine Learning Theory (2 Hour Workshop). Webinar Link [TBD]\n",
    "\n",
    "\n",
    "### Audience\n",
    "\n",
    "- **Python** – you don't need to be an expert python programmer, but you do need to know the basics. If you don't, the official [Python tutorial](https://docs.python.org/3/tutorial/) is a good place to start.\n",
    "- **Scientific Python** – We will be using a few popular python libraries, in particular NumPy, matplotlib and pandas. If you are not familiar with these libraries, you should probably start by going through the tutorials in the Tools section (especially NumPy).\n",
    "- **Statistics** – We will also use some notions of Linear Statistics and Probability theory. You should be able to follow along if you learned these in the past as it won't be very advanced, but if you don't know about these topics or you need a refresher.\n",
    "\n",
    "### Implicit Info & Level 300\n",
    "This material is not a self-service document (yet). A lot of the key messages, that will be given in the session are not reflected in the document yet and will be articulated by the AWS presenter. Later revisions will improve.\n",
    "\n",
    "This material is a Level 300 document. It assumes basic experince on AWS (S3, IAM, SageMaker). (e.g. screenshots of SageMaker console).  \n",
    "\n",
    "### Tools, Services\n",
    "- **AWS Account**: Bring your own AWS Account (with admin access to S3, SageMaker, IAM, ECR, Comprehend, Athena)\n",
    "- **SageMaker Notebook ** – These notebooks are based on SageMaker Notebook running Jupyter. If you just plan to read without running any code, there's really nothing more to know, just keep reading!\n"
   ]
  },
  {
   "cell_type": "markdown",
   "metadata": {},
   "source": [
    "\n",
    "## Workshop Concepts Matrix\n",
    "\n",
    "Unlike the conventional ML workshop formats, we didn't pursue a single algorithm or a model throughout the workshop. We believe that, experimenting with different ML use cases and Domains prepares the audience better for real-world use cases. Each lab addresses a different use case, dataset; and each notebook has a different focus area of an ML Project Life Cycle.  \n",
    "\n",
    "\n",
    "| Module | ML Project Stage | Open Dataset | ML Domain | Algorithm | Concepts | Services |\n",
    "| ---| ---| ---| --- | --- | --- | --- | \n",
    "| Module 2 | ML Data Engineering | Kaggle Bike Sharing | | | Descriptive Statistics | SageMaker| \n",
    "| Module 3 | ML Modeling on Local Notebook | Kaggle Bike Sharing | Supervised Learning | Linear Regression & Decision Trees | Challenges of ML development on notebooks | SageMaker|  \n",
    "| Module 4 | ML Data Engineering | Amazon.com Customer Reviews | | | Bridging the gap with big data & ML with Presto, Hue, HIVE, (Spark) | S3, Athena, Glue, Comprehend| \n",
    "| Module 5 | ML Modeling on Cloud | Bank - Direct Marketing | Supervised Learning |Binary Classification with Logistic Regression | Benefits of Training in the Cloud| SageMaker|  \n",
    "| Module 6 - P I | ML Optimization | Bank - Direct Marketing |  | | ML Metrics for Classification | SageMaker|  \n",
    "| Module 6 - P II| ML Optimization with Hyper Parameter Tuning|  |  | | Bayesian Search HPO Strategy | SageMaker|  \n",
    "| Module 7 | ML Model Deployment |  |  | | Model hosting for Real-time vs. Batch Predictions, A/B testing, multi-model endpoints, Auto Scaling | SageMaker|  \n"
   ]
  },
  {
   "cell_type": "markdown",
   "metadata": {},
   "source": [
    "\n",
    "\n",
    "## Workshop Outline\n",
    "\n",
    "1. [Module 1 AWS ML Outline](Module1_AWSML_Outline.ipynb) \n",
    "1. [Module 2 Local Data Engineering on Bike Sharing Dataset](Module2_Local_Data_Engineering_Bike_Sharing.ipynb)\n",
    "1. [Module 3 Local Modeling Supervised Learning Regression on Bike Sharing Dataset](Module3_Local_Modeling_SL_Regression_Bike_Sharing.ipynb) \n",
    "1. [Module4 Big Data Engineering Amazon on Reviews Dataset](Module4_Big_Data_Engineering_Amazon_Reviews.ipynb) \n",
    "1. [Module5 ML Modeling SL Binary Classification on Bank Direct Marketing Dataset](Module5_ML_Modeling_SL_BinClassfcn_Bank_Direct_Marketing.ipynb) \n",
    "1. [Module6.1 ML Model Optimization Bank Direct_Marketing Hyper Paramerer Tuning](Module6_1_ML_Model_Optimization_Bank_Direct_Marketing_HyperParamTuning.ipynb) \n",
    "1. [Module6.2 ML Model Optimization Analyze HyperParameter Tuning](Module6_2_ML_Model_Optimization_Analyze_HyperParamTuning.ipynb) \n",
    "1. [Module 7 ML Model Deployment into Production for Batch & Real-Time Predictions](mod7-deploy-scikit-byom/Module7_ML_Model_Deployment_BYOM_Batch_RealTime_SciKit.ipynb) \n",
    "\n"
   ]
  },
  {
   "cell_type": "markdown",
   "metadata": {},
   "source": [
    "## Preparing for the Labs\n",
    "#### Create an ML Notebook \n",
    "\n",
    "As described here: https://docs.aws.amazon.com/sagemaker/latest/dg/gs-setup-working-env.html While specifying notebook, select \n",
    "\n",
    "    - `Instance Type` as `m5.xlarge`\n",
    "    - `Additional Configuration -> Volume Size in GB` and enter 5GB\n",
    "    - Add following IAM policies to the IAM role attached to the SageMaker Notebook:\n",
    "       - `AmazonSageMakerFullAccess`\n",
    "       - `AmazonS3FullAccess` \n",
    "       - `AmazonEC2ContainerRegistryReadOnly`\n",
    "       - `AmazonEC2ContainerRegistryFullAccess`\n",
    "       - `AmazonEC2ContainerServiceforEC2Role`\n",
    "       - `AmazonAthenaFullAccess`\n",
    "       - `ComprehendFullAccess`\n",
    "       \n",
    "#### Open Jupyter Terminal (In SageMaker)\n",
    "\n",
    "    - Open `vi ~/.bashrc`\n",
    "    - Append following\n",
    "    `\n",
    "        export PS1=\"\\[$(tput setaf 6)\\]\\u@\\h:\\w $ \\[$(tput sgr0)\\]\"\n",
    "        export CLICOLOR=1\n",
    "        export LSCOLORS=ExFxCxDxBxegedabagacad\n",
    "\n",
    "        alias ll='ls -lah'\n",
    "        export EDITOR=vim\n",
    "    `\n",
    "    - Do `source ~/.bashrc`\n",
    "    - Do `sudo yum install htop -y`\n",
    "\n",
    "#### Download Lab Guides & SageMaker Sample Notebooks (in SageMaker)\n",
    "\n",
    "    - Open SageMaker Terminal\n",
    "    - Do `cd SageMaker`\n",
    "    - Clone Lab Guides `git clone https://github.com/CloudaYolla/ArchitectingMLonAWS.git`\n",
    "    - Clone SageMaker examples `git clone https://github.com/awslabs/amazon-sagemaker-examples.git`"
   ]
  },
  {
   "cell_type": "markdown",
   "metadata": {
    "collapsed": true
   },
   "source": [
    "## Machine Learning Refresher (TBD)\n",
    "\n",
    "\n",
    "1. [The Machine Learning landscape](Module0_ML_Landscape.ipynb)\n",
    "1. Supervised Learning\n",
    "     1. [Classification](Module0_MLAlgols01_classification.ipynb)\n",
    "     1. [Regression](Module0_MLAlgols01_linear_models.ipynb)\n",
    "        1. [Decision Trees](06_decision_trees.ipynb)\n",
    "1. Unsupervised Learning \n",
    "    1. [Dimensionality Reduction & Unsupervised Learning](Module0_MLAlgols01_dimensionality_reduction.ipynb)\n",
    "1. [Introduction to Artificial Neural Networks](Module0_MLAlgols01__ANN.ipynb)\n",
    "1. [Reinforcement Learning](Module0_MLAlgols01_reinforcement_learning.ipynb)\n"
   ]
  },
  {
   "cell_type": "markdown",
   "metadata": {},
   "source": [
    "\n",
    "### 10. Cleaning up resources \n",
    "\n",
    "**Very Important:** SageMaker Notebooks run on EC2, and therefore you will be billed by the second unless you save your work (by downloading to your local computer) & terminate the SageMaker notebook instance. \n",
    "\n",
    "Please \n",
    " 1. download the notebook (if you did any changes) to your computer by selecting ` File -> Download as -> Notebook (.ipynb)`. \n",
    " 1. Terminate this instance. Remember that you can always recreate it from the `AWS SageMaker Console` again.\n",
    " 1. Delete also SageMaker Endpoints\n",
    " \n",
    " \n",
    " Thank you.\n",
    "\n"
   ]
  }
 ],
 "metadata": {
  "kernelspec": {
   "display_name": "conda_python3",
   "language": "python",
   "name": "conda_python3"
  },
  "language_info": {
   "codemirror_mode": {
    "name": "ipython",
    "version": 3
   },
   "file_extension": ".py",
   "mimetype": "text/x-python",
   "name": "python",
   "nbconvert_exporter": "python",
   "pygments_lexer": "ipython3",
   "version": "3.6.7"
  },
  "nav_menu": {},
  "toc": {
   "navigate_menu": true,
   "number_sections": true,
   "sideBar": true,
   "threshold": 6,
   "toc_cell": false,
   "toc_section_display": "block",
   "toc_window_display": false
  }
 },
 "nbformat": 4,
 "nbformat_minor": 1
}
